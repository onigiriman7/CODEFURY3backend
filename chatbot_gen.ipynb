{
 "metadata": {
  "language_info": {
   "codemirror_mode": {
    "name": "ipython",
    "version": 3
   },
   "file_extension": ".py",
   "mimetype": "text/x-python",
   "name": "python",
   "nbconvert_exporter": "python",
   "pygments_lexer": "ipython3",
   "version": "3.8.0-final"
  },
  "orig_nbformat": 2,
  "kernelspec": {
   "name": "Python 3.8.0 64-bit",
   "display_name": "Python 3.8.0 64-bit",
   "metadata": {
    "interpreter": {
     "hash": "9a76a375ffa4302e32fe5705f58d7b433925cc33effb84240bde3610b4c60872"
    }
   }
  }
 },
 "nbformat": 4,
 "nbformat_minor": 2,
 "cells": [
  {
   "cell_type": "code",
   "execution_count": 19,
   "metadata": {},
   "outputs": [],
   "source": [
    "import io\n",
    "import random\n",
    "greet = [\"hi\", \"hello\", \"hey\", \"helloo\", \"hellooo\", \"good morining\",  \"gmorning\",  \"good morning\", \"morning\", \"good day\", \"good afternoon\", \"good evening\", \"greetings\"]\n",
    "hi = ['hi', 'hello', 'hey', 'yo']\n",
    "const = ['construction', 'mason', 'construction worker', 'labourer', 'labor', 'labour']\n",
    "fact = ['factory worker', 'factory worker', 'machine operator', 'industry worker', 'machinery handler', 'production helper']\n",
    "sec = ['security', 'security', 'watchman', 'guard', 'chaukidaar', 'warden']\n",
    "clean = ['cleaner', 'cleaner', 'nurse', 'peon', 'bai', 'maid']\n",
    "helpyou = ['how may I help you?', 'can I help you?']\n",
    "jobs = [const, fact, sec, clean]\n",
    "thank = ['thanks', \"thank you\", \"have a nice day\"]\n",
    "looking_for = ['help me find', 'find', 'I am looking for', 'I want to find']\n",
    "work = ['work', 'jobs', 'job', 'working']\n",
    "\n",
    "for i in range(120):\n",
    "    rand0 = random.randint(0, 3)\n",
    "    rand1 = random.randint(0, 12)\n",
    "    rand2 = random.randint(0, 1)\n",
    "    rand3 = random.randint(0, 3)\n",
    "    rand4 = random.randint(0, 3)\n",
    "    rand5 = random.randint(0, 3)\n",
    "    rand6 = random.randint(0, 3)\n",
    "    rand7 = random.randint(1, 5)\n",
    "    rand8 = random.randint(0, 1)\n",
    "\n",
    "    string0 = hi[rand0]\n",
    "    string1 = greet[rand1]+\" \"+helpyou[rand2]\n",
    "    string2 = hi[rand3]+\" \"+looking_for[rand4]+\" \"+work[rand5]+\" as a \"+jobs[rand6][rand7]\n",
    "    string3 = looking_for[rand4]+\" \"+work[rand5]+\" as a \"+jobs[rand6][rand7]\n",
    "    reply = [string2, string3]\n",
    "    response = \"You are looking for job in \"+str(jobs[rand6][0])+\" category\"\n",
    "    with open(\"chat_train/output\"+str(i)+\".txt\", \"a\") as f:\n",
    "          print(string0, file=f)\n",
    "          print(string1, file=f)\n",
    "          print(reply[rand8], file=f)\n",
    "          print(response, file=f)"
   ]
  },
  {
   "cell_type": "code",
   "execution_count": null,
   "metadata": {},
   "outputs": [],
   "source": []
  }
 ]
}