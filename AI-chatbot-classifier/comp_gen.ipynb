{
 "metadata": {
  "language_info": {
   "codemirror_mode": {
    "name": "ipython",
    "version": 3
   },
   "file_extension": ".py",
   "mimetype": "text/x-python",
   "name": "python",
   "nbconvert_exporter": "python",
   "pygments_lexer": "ipython3",
   "version": "3.8.3-final"
  },
  "orig_nbformat": 2,
  "kernelspec": {
   "name": "Python 3.8.3 64-bit (conda)",
   "display_name": "Python 3.8.3 64-bit (conda)",
   "metadata": {
    "interpreter": {
     "hash": "07efdcd4b820c98a756949507a4d29d7862823915ec7477944641bea022f4f62"
    }
   }
  }
 },
 "nbformat": 4,
 "nbformat_minor": 2,
 "cells": [
  {
   "cell_type": "code",
   "execution_count": 1,
   "metadata": {},
   "outputs": [],
   "source": [
    "import pandas as pd"
   ]
  },
  {
   "cell_type": "code",
   "execution_count": 9,
   "metadata": {},
   "outputs": [
    {
     "output_type": "execute_result",
     "data": {
      "text/plain": [
       "                         permalink                name  \\\n",
       "0            /organization/waywire            #waywire   \n",
       "1  /organization/tv-communications  &TV Communications   \n",
       "2    /organization/rock-your-paper   'Rock' Your Paper   \n",
       "3   /organization/in-touch-network   (In)Touch Network   \n",
       "4            /organization/n-plusn          +n (PlusN)   \n",
       "\n",
       "                    homepage_url  \\\n",
       "0         http://www.waywire.com   \n",
       "1          http://enjoyandtv.com   \n",
       "2   http://www.rockyourpaper.org   \n",
       "3  http://www.InTouchNetwork.com   \n",
       "4               http://plusn.com   \n",
       "\n",
       "                                       category_list       market  \\\n",
       "0         |Entertainment|Politics|Social Media|News|        News    \n",
       "1                                            |Games|        Games   \n",
       "2                             |Publishing|Education|   Publishing   \n",
       "3  |Electronics|Guides|Coffee|Restaurants|Music|i...  Electronics   \n",
       "4                                         |Software|    Software    \n",
       "\n",
       "  funding_total_usd     status country_code state_code         region  \\\n",
       "0        1 750 000    acquired          USA         NY  New York City   \n",
       "1        4 000 000   operating          USA         CA    Los Angeles   \n",
       "2           40 000   operating          EST        NaN        Tallinn   \n",
       "3        1 500 000   operating          GBR        NaN         London   \n",
       "4        1 200 000   operating          USA         NY  New York City   \n",
       "\n",
       "          city  funding_rounds  founded_at founded_month founded_quarter  \\\n",
       "0     New York               1  01/06/2012       2012-06         2012-Q2   \n",
       "1  Los Angeles               2         NaN           NaN             NaN   \n",
       "2      Tallinn               1  26/10/2012       2012-10         2012-Q4   \n",
       "3       London               1  01/04/2011       2011-04         2011-Q2   \n",
       "4     New York               2  01/01/2012       2012-01         2012-Q1   \n",
       "\n",
       "   founded_year first_funding_at last_funding_at  \n",
       "0        2012.0       30/06/2012      30/06/2012  \n",
       "1           NaN       04/06/2010      23/09/2010  \n",
       "2        2012.0       09/08/2012      09/08/2012  \n",
       "3        2011.0       01/04/2011      01/04/2011  \n",
       "4        2012.0       29/08/2012      04/09/2014  "
      ],
      "text/html": "<div>\n<style scoped>\n    .dataframe tbody tr th:only-of-type {\n        vertical-align: middle;\n    }\n\n    .dataframe tbody tr th {\n        vertical-align: top;\n    }\n\n    .dataframe thead th {\n        text-align: right;\n    }\n</style>\n<table border=\"1\" class=\"dataframe\">\n  <thead>\n    <tr style=\"text-align: right;\">\n      <th></th>\n      <th>permalink</th>\n      <th>name</th>\n      <th>homepage_url</th>\n      <th>category_list</th>\n      <th>market</th>\n      <th>funding_total_usd</th>\n      <th>status</th>\n      <th>country_code</th>\n      <th>state_code</th>\n      <th>region</th>\n      <th>city</th>\n      <th>funding_rounds</th>\n      <th>founded_at</th>\n      <th>founded_month</th>\n      <th>founded_quarter</th>\n      <th>founded_year</th>\n      <th>first_funding_at</th>\n      <th>last_funding_at</th>\n    </tr>\n  </thead>\n  <tbody>\n    <tr>\n      <th>0</th>\n      <td>/organization/waywire</td>\n      <td>#waywire</td>\n      <td>http://www.waywire.com</td>\n      <td>|Entertainment|Politics|Social Media|News|</td>\n      <td>News</td>\n      <td>1 750 000</td>\n      <td>acquired</td>\n      <td>USA</td>\n      <td>NY</td>\n      <td>New York City</td>\n      <td>New York</td>\n      <td>1</td>\n      <td>01/06/2012</td>\n      <td>2012-06</td>\n      <td>2012-Q2</td>\n      <td>2012.0</td>\n      <td>30/06/2012</td>\n      <td>30/06/2012</td>\n    </tr>\n    <tr>\n      <th>1</th>\n      <td>/organization/tv-communications</td>\n      <td>&amp;TV Communications</td>\n      <td>http://enjoyandtv.com</td>\n      <td>|Games|</td>\n      <td>Games</td>\n      <td>4 000 000</td>\n      <td>operating</td>\n      <td>USA</td>\n      <td>CA</td>\n      <td>Los Angeles</td>\n      <td>Los Angeles</td>\n      <td>2</td>\n      <td>NaN</td>\n      <td>NaN</td>\n      <td>NaN</td>\n      <td>NaN</td>\n      <td>04/06/2010</td>\n      <td>23/09/2010</td>\n    </tr>\n    <tr>\n      <th>2</th>\n      <td>/organization/rock-your-paper</td>\n      <td>'Rock' Your Paper</td>\n      <td>http://www.rockyourpaper.org</td>\n      <td>|Publishing|Education|</td>\n      <td>Publishing</td>\n      <td>40 000</td>\n      <td>operating</td>\n      <td>EST</td>\n      <td>NaN</td>\n      <td>Tallinn</td>\n      <td>Tallinn</td>\n      <td>1</td>\n      <td>26/10/2012</td>\n      <td>2012-10</td>\n      <td>2012-Q4</td>\n      <td>2012.0</td>\n      <td>09/08/2012</td>\n      <td>09/08/2012</td>\n    </tr>\n    <tr>\n      <th>3</th>\n      <td>/organization/in-touch-network</td>\n      <td>(In)Touch Network</td>\n      <td>http://www.InTouchNetwork.com</td>\n      <td>|Electronics|Guides|Coffee|Restaurants|Music|i...</td>\n      <td>Electronics</td>\n      <td>1 500 000</td>\n      <td>operating</td>\n      <td>GBR</td>\n      <td>NaN</td>\n      <td>London</td>\n      <td>London</td>\n      <td>1</td>\n      <td>01/04/2011</td>\n      <td>2011-04</td>\n      <td>2011-Q2</td>\n      <td>2011.0</td>\n      <td>01/04/2011</td>\n      <td>01/04/2011</td>\n    </tr>\n    <tr>\n      <th>4</th>\n      <td>/organization/n-plusn</td>\n      <td>+n (PlusN)</td>\n      <td>http://plusn.com</td>\n      <td>|Software|</td>\n      <td>Software</td>\n      <td>1 200 000</td>\n      <td>operating</td>\n      <td>USA</td>\n      <td>NY</td>\n      <td>New York City</td>\n      <td>New York</td>\n      <td>2</td>\n      <td>01/01/2012</td>\n      <td>2012-01</td>\n      <td>2012-Q1</td>\n      <td>2012.0</td>\n      <td>29/08/2012</td>\n      <td>04/09/2014</td>\n    </tr>\n  </tbody>\n</table>\n</div>"
     },
     "metadata": {},
     "execution_count": 9
    }
   ],
   "source": [
    "df1 = pd.read_csv(\"companies.csv\")\n",
    "df1.head()"
   ]
  },
  {
   "cell_type": "code",
   "execution_count": 10,
   "metadata": {},
   "outputs": [
    {
     "output_type": "execute_result",
     "data": {
      "text/plain": [
       "                 name\n",
       "0            #waywire\n",
       "1  &TV Communications\n",
       "2   'Rock' Your Paper\n",
       "3   (In)Touch Network\n",
       "4          +n (PlusN)"
      ],
      "text/html": "<div>\n<style scoped>\n    .dataframe tbody tr th:only-of-type {\n        vertical-align: middle;\n    }\n\n    .dataframe tbody tr th {\n        vertical-align: top;\n    }\n\n    .dataframe thead th {\n        text-align: right;\n    }\n</style>\n<table border=\"1\" class=\"dataframe\">\n  <thead>\n    <tr style=\"text-align: right;\">\n      <th></th>\n      <th>name</th>\n    </tr>\n  </thead>\n  <tbody>\n    <tr>\n      <th>0</th>\n      <td>#waywire</td>\n    </tr>\n    <tr>\n      <th>1</th>\n      <td>&amp;TV Communications</td>\n    </tr>\n    <tr>\n      <th>2</th>\n      <td>'Rock' Your Paper</td>\n    </tr>\n    <tr>\n      <th>3</th>\n      <td>(In)Touch Network</td>\n    </tr>\n    <tr>\n      <th>4</th>\n      <td>+n (PlusN)</td>\n    </tr>\n  </tbody>\n</table>\n</div>"
     },
     "metadata": {},
     "execution_count": 10
    }
   ],
   "source": [
    "df1 = df1[['name']]\n",
    "df1.head()"
   ]
  },
  {
   "cell_type": "code",
   "execution_count": 11,
   "metadata": {},
   "outputs": [
    {
     "output_type": "execute_result",
     "data": {
      "text/plain": [
       "(6180, 1)"
      ]
     },
     "metadata": {},
     "execution_count": 11
    }
   ],
   "source": [
    "df1.shape"
   ]
  },
  {
   "cell_type": "code",
   "execution_count": 12,
   "metadata": {},
   "outputs": [],
   "source": [
    "df1.columns = ['name']"
   ]
  },
  {
   "cell_type": "code",
   "execution_count": 13,
   "metadata": {},
   "outputs": [
    {
     "output_type": "execute_result",
     "data": {
      "text/plain": [
       "                 name\n",
       "0            #waywire\n",
       "1  &TV Communications\n",
       "2   'Rock' Your Paper\n",
       "3   (In)Touch Network\n",
       "4          +n (PlusN)"
      ],
      "text/html": "<div>\n<style scoped>\n    .dataframe tbody tr th:only-of-type {\n        vertical-align: middle;\n    }\n\n    .dataframe tbody tr th {\n        vertical-align: top;\n    }\n\n    .dataframe thead th {\n        text-align: right;\n    }\n</style>\n<table border=\"1\" class=\"dataframe\">\n  <thead>\n    <tr style=\"text-align: right;\">\n      <th></th>\n      <th>name</th>\n    </tr>\n  </thead>\n  <tbody>\n    <tr>\n      <th>0</th>\n      <td>#waywire</td>\n    </tr>\n    <tr>\n      <th>1</th>\n      <td>&amp;TV Communications</td>\n    </tr>\n    <tr>\n      <th>2</th>\n      <td>'Rock' Your Paper</td>\n    </tr>\n    <tr>\n      <th>3</th>\n      <td>(In)Touch Network</td>\n    </tr>\n    <tr>\n      <th>4</th>\n      <td>+n (PlusN)</td>\n    </tr>\n  </tbody>\n</table>\n</div>"
     },
     "metadata": {},
     "execution_count": 13
    }
   ],
   "source": [
    "df1.head()"
   ]
  },
  {
   "cell_type": "code",
   "execution_count": 14,
   "metadata": {},
   "outputs": [],
   "source": [
    "import sklearn\n",
    "df1 = sklearn.utils.shuffle(df1)"
   ]
  },
  {
   "cell_type": "code",
   "execution_count": 15,
   "metadata": {},
   "outputs": [
    {
     "output_type": "execute_result",
     "data": {
      "text/plain": [
       "                                          name\n",
       "5819                                    Boonty\n",
       "503                                     Abazab\n",
       "3732                          Automation Alley\n",
       "5839  Bootstrap Digital and Tech Ventures Inc.\n",
       "2715                            AppIt Ventures"
      ],
      "text/html": "<div>\n<style scoped>\n    .dataframe tbody tr th:only-of-type {\n        vertical-align: middle;\n    }\n\n    .dataframe tbody tr th {\n        vertical-align: top;\n    }\n\n    .dataframe thead th {\n        text-align: right;\n    }\n</style>\n<table border=\"1\" class=\"dataframe\">\n  <thead>\n    <tr style=\"text-align: right;\">\n      <th></th>\n      <th>name</th>\n    </tr>\n  </thead>\n  <tbody>\n    <tr>\n      <th>5819</th>\n      <td>Boonty</td>\n    </tr>\n    <tr>\n      <th>503</th>\n      <td>Abazab</td>\n    </tr>\n    <tr>\n      <th>3732</th>\n      <td>Automation Alley</td>\n    </tr>\n    <tr>\n      <th>5839</th>\n      <td>Bootstrap Digital and Tech Ventures Inc.</td>\n    </tr>\n    <tr>\n      <th>2715</th>\n      <td>AppIt Ventures</td>\n    </tr>\n  </tbody>\n</table>\n</div>"
     },
     "metadata": {},
     "execution_count": 15
    }
   ],
   "source": [
    "df1.head()"
   ]
  },
  {
   "cell_type": "code",
   "execution_count": 20,
   "metadata": {},
   "outputs": [],
   "source": [
    "df1 = df1[:180]"
   ]
  },
  {
   "cell_type": "code",
   "execution_count": 21,
   "metadata": {},
   "outputs": [
    {
     "output_type": "execute_result",
     "data": {
      "text/plain": [
       "                                          name\n",
       "5819                                    Boonty\n",
       "503                                     Abazab\n",
       "3732                          Automation Alley\n",
       "5839  Bootstrap Digital and Tech Ventures Inc.\n",
       "2715                            AppIt Ventures"
      ],
      "text/html": "<div>\n<style scoped>\n    .dataframe tbody tr th:only-of-type {\n        vertical-align: middle;\n    }\n\n    .dataframe tbody tr th {\n        vertical-align: top;\n    }\n\n    .dataframe thead th {\n        text-align: right;\n    }\n</style>\n<table border=\"1\" class=\"dataframe\">\n  <thead>\n    <tr style=\"text-align: right;\">\n      <th></th>\n      <th>name</th>\n    </tr>\n  </thead>\n  <tbody>\n    <tr>\n      <th>5819</th>\n      <td>Boonty</td>\n    </tr>\n    <tr>\n      <th>503</th>\n      <td>Abazab</td>\n    </tr>\n    <tr>\n      <th>3732</th>\n      <td>Automation Alley</td>\n    </tr>\n    <tr>\n      <th>5839</th>\n      <td>Bootstrap Digital and Tech Ventures Inc.</td>\n    </tr>\n    <tr>\n      <th>2715</th>\n      <td>AppIt Ventures</td>\n    </tr>\n  </tbody>\n</table>\n</div>"
     },
     "metadata": {},
     "execution_count": 21
    }
   ],
   "source": [
    "df1.head()"
   ]
  },
  {
   "cell_type": "code",
   "execution_count": 22,
   "metadata": {},
   "outputs": [
    {
     "output_type": "execute_result",
     "data": {
      "text/plain": [
       "(180, 1)"
      ]
     },
     "metadata": {},
     "execution_count": 22
    }
   ],
   "source": [
    "df1.shape\n"
   ]
  },
  {
   "cell_type": "code",
   "execution_count": 24,
   "metadata": {},
   "outputs": [
    {
     "output_type": "stream",
     "name": "stdout",
     "text": [
      "['Farming', 'Farming', 'Farming', 'Farming', 'Farming', 'Farming', 'Farming', 'Farming', 'Farming', 'Farming', 'Farming', 'Farming', 'Farming', 'Farming', 'Farming', 'Farming', 'Farming', 'Farming', 'Farming', 'Farming', 'Farming', 'Farming', 'Farming', 'Farming', 'Farming', 'Farming', 'Farming', 'Farming', 'Farming', 'Farming', 'Construction', 'Construction', 'Construction', 'Construction', 'Construction', 'Construction', 'Construction', 'Construction', 'Construction', 'Construction', 'Construction', 'Construction', 'Construction', 'Construction', 'Construction', 'Construction', 'Construction', 'Construction', 'Construction', 'Construction', 'Construction', 'Construction', 'Construction', 'Construction', 'Construction', 'Construction', 'Construction', 'Construction', 'Construction', 'Construction', 'Factory worker', 'Factory worker', 'Factory worker', 'Factory worker', 'Factory worker', 'Factory worker', 'Factory worker', 'Factory worker', 'Factory worker', 'Factory worker', 'Factory worker', 'Factory worker', 'Factory worker', 'Factory worker', 'Factory worker', 'Factory worker', 'Factory worker', 'Factory worker', 'Factory worker', 'Factory worker', 'Factory worker', 'Factory worker', 'Factory worker', 'Factory worker', 'Factory worker', 'Factory worker', 'Factory worker', 'Factory worker', 'Factory worker', 'Factory worker', 'Cleaner', 'Cleaner', 'Cleaner', 'Cleaner', 'Cleaner', 'Cleaner', 'Cleaner', 'Cleaner', 'Cleaner', 'Cleaner', 'Cleaner', 'Cleaner', 'Cleaner', 'Cleaner', 'Cleaner', 'Cleaner', 'Cleaner', 'Cleaner', 'Cleaner', 'Cleaner', 'Cleaner', 'Cleaner', 'Cleaner', 'Cleaner', 'Cleaner', 'Cleaner', 'Cleaner', 'Cleaner', 'Cleaner', 'Cleaner', 'Security', 'Security', 'Security', 'Security', 'Security', 'Security', 'Security', 'Security', 'Security', 'Security', 'Security', 'Security', 'Security', 'Security', 'Security', 'Security', 'Security', 'Security', 'Security', 'Security', 'Security', 'Security', 'Security', 'Security', 'Security', 'Security', 'Security', 'Security', 'Security', 'Security', 'Coolie', 'Coolie', 'Coolie', 'Coolie', 'Coolie', 'Coolie', 'Coolie', 'Coolie', 'Coolie', 'Coolie', 'Coolie', 'Coolie', 'Coolie', 'Coolie', 'Coolie', 'Coolie', 'Coolie', 'Coolie', 'Coolie', 'Coolie', 'Coolie', 'Coolie', 'Coolie', 'Coolie', 'Coolie', 'Coolie', 'Coolie', 'Coolie', 'Coolie', 'Coolie']\n"
     ]
    }
   ],
   "source": [
    "field1 = 'Farming'\n",
    "field2 = 'Construction'\n",
    "field3 = 'Factory worker'\n",
    "field4 = 'Cleaner'\n",
    "field5 = 'Security'\n",
    "field6 = 'Coolie'\n",
    "\n",
    "li = [field1, field2, field3, field4, field5, field6]\n",
    "\n",
    "fieldlist = []\n",
    "\n",
    "for i in range(int(180/6)):\n",
    "    fieldlist.append(li[0])\n",
    "for i in range(int(180/6)):\n",
    "    fieldlist.append(li[1])\n",
    "for i in range(int(180/6)):\n",
    "    fieldlist.append(li[2])\n",
    "for i in range(int(180/6)):\n",
    "    fieldlist.append(li[3])\n",
    "for i in range(int(180/6)):\n",
    "    fieldlist.append(li[4])\n",
    "for i in range(int(180/6)):\n",
    "    fieldlist.append(li[5])\n",
    "\n",
    "print(fieldlist)"
   ]
  },
  {
   "cell_type": "code",
   "execution_count": 28,
   "metadata": {},
   "outputs": [],
   "source": [
    "import numpy as np\n",
    "w = np.asarray(fieldlist)\n",
    "df1['work'] = w"
   ]
  },
  {
   "cell_type": "code",
   "execution_count": 29,
   "metadata": {},
   "outputs": [
    {
     "output_type": "execute_result",
     "data": {
      "text/plain": [
       "                                          name     work\n",
       "5819                                    Boonty  Farming\n",
       "503                                     Abazab  Farming\n",
       "3732                          Automation Alley  Farming\n",
       "5839  Bootstrap Digital and Tech Ventures Inc.  Farming\n",
       "2715                            AppIt Ventures  Farming"
      ],
      "text/html": "<div>\n<style scoped>\n    .dataframe tbody tr th:only-of-type {\n        vertical-align: middle;\n    }\n\n    .dataframe tbody tr th {\n        vertical-align: top;\n    }\n\n    .dataframe thead th {\n        text-align: right;\n    }\n</style>\n<table border=\"1\" class=\"dataframe\">\n  <thead>\n    <tr style=\"text-align: right;\">\n      <th></th>\n      <th>name</th>\n      <th>work</th>\n    </tr>\n  </thead>\n  <tbody>\n    <tr>\n      <th>5819</th>\n      <td>Boonty</td>\n      <td>Farming</td>\n    </tr>\n    <tr>\n      <th>503</th>\n      <td>Abazab</td>\n      <td>Farming</td>\n    </tr>\n    <tr>\n      <th>3732</th>\n      <td>Automation Alley</td>\n      <td>Farming</td>\n    </tr>\n    <tr>\n      <th>5839</th>\n      <td>Bootstrap Digital and Tech Ventures Inc.</td>\n      <td>Farming</td>\n    </tr>\n    <tr>\n      <th>2715</th>\n      <td>AppIt Ventures</td>\n      <td>Farming</td>\n    </tr>\n  </tbody>\n</table>\n</div>"
     },
     "metadata": {},
     "execution_count": 29
    }
   ],
   "source": [
    "df1.head()"
   ]
  },
  {
   "cell_type": "code",
   "execution_count": 30,
   "metadata": {},
   "outputs": [],
   "source": [
    "df1 = sklearn.utils.shuffle(df1)"
   ]
  },
  {
   "cell_type": "code",
   "execution_count": 31,
   "metadata": {},
   "outputs": [
    {
     "output_type": "execute_result",
     "data": {
      "text/plain": [
       "                name            work\n",
       "3614     Audiosocket         Farming\n",
       "1436     AgentBridge        Security\n",
       "121    24x7 Learning        Security\n",
       "2635       App Annie  Factory worker\n",
       "1390  AFrame Digital  Factory worker"
      ],
      "text/html": "<div>\n<style scoped>\n    .dataframe tbody tr th:only-of-type {\n        vertical-align: middle;\n    }\n\n    .dataframe tbody tr th {\n        vertical-align: top;\n    }\n\n    .dataframe thead th {\n        text-align: right;\n    }\n</style>\n<table border=\"1\" class=\"dataframe\">\n  <thead>\n    <tr style=\"text-align: right;\">\n      <th></th>\n      <th>name</th>\n      <th>work</th>\n    </tr>\n  </thead>\n  <tbody>\n    <tr>\n      <th>3614</th>\n      <td>Audiosocket</td>\n      <td>Farming</td>\n    </tr>\n    <tr>\n      <th>1436</th>\n      <td>AgentBridge</td>\n      <td>Security</td>\n    </tr>\n    <tr>\n      <th>121</th>\n      <td>24x7 Learning</td>\n      <td>Security</td>\n    </tr>\n    <tr>\n      <th>2635</th>\n      <td>App Annie</td>\n      <td>Factory worker</td>\n    </tr>\n    <tr>\n      <th>1390</th>\n      <td>AFrame Digital</td>\n      <td>Factory worker</td>\n    </tr>\n  </tbody>\n</table>\n</div>"
     },
     "metadata": {},
     "execution_count": 31
    }
   ],
   "source": [
    "df1.head()"
   ]
  },
  {
   "cell_type": "code",
   "execution_count": 32,
   "metadata": {},
   "outputs": [
    {
     "output_type": "stream",
     "name": "stdout",
     "text": [
      "['Aladakatti', 'Aladakatti', 'Aladakatti', 'Aladakatti', 'Aladakatti', 'Aladakatti', 'Aladakatti', 'Aladakatti', 'Aladakatti', 'Aladakatti', 'Aladakatti', 'Aladakatti', 'Aladakatti', 'Aladakatti', 'Aladakatti', 'Aladakatti', 'Aladakatti', 'Aladakatti', 'Aladakatti', 'Aladakatti', 'Aladakatti', 'Aladakatti', 'Aladakatti', 'Aladakatti', 'Aladakatti', 'Aladakatti', 'Aladakatti', 'Aladakatti', 'Aladakatti', 'Aladakatti', 'Aladakatti', 'Aladakatti', 'Aladakatti', 'Aladakatti', 'Aladakatti', 'Aladakatti', 'Aladakatti', 'Aladakatti', 'Aladakatti', 'Aladakatti', 'Aladakatti', 'Aladakatti', 'Aladakatti', 'Aladakatti', 'Aladakatti', 'Aladakatti', 'Aladakatti', 'Aladakatti', 'Aladakatti', 'Aladakatti', 'Aladakatti', 'Aladakatti', 'Aladakatti', 'Aladakatti', 'Aladakatti', 'Aladakatti', 'Aladakatti', 'Aladakatti', 'Aladakatti', 'Aladakatti', 'Bandakeri', 'Bandakeri', 'Bandakeri', 'Bandakeri', 'Bandakeri', 'Bandakeri', 'Bandakeri', 'Bandakeri', 'Bandakeri', 'Bandakeri', 'Bandakeri', 'Bandakeri', 'Bandakeri', 'Bandakeri', 'Bandakeri', 'Bandakeri', 'Bandakeri', 'Bandakeri', 'Bandakeri', 'Bandakeri', 'Bandakeri', 'Bandakeri', 'Bandakeri', 'Bandakeri', 'Bandakeri', 'Bandakeri', 'Bandakeri', 'Bandakeri', 'Bandakeri', 'Bandakeri', 'Bandakeri', 'Bandakeri', 'Bandakeri', 'Bandakeri', 'Bandakeri', 'Bandakeri', 'Bandakeri', 'Bandakeri', 'Bandakeri', 'Bandakeri', 'Bandakeri', 'Bandakeri', 'Bandakeri', 'Bandakeri', 'Bandakeri', 'Bandakeri', 'Bandakeri', 'Bandakeri', 'Bandakeri', 'Bandakeri', 'Bandakeri', 'Bandakeri', 'Bandakeri', 'Bandakeri', 'Bandakeri', 'Bandakeri', 'Bandakeri', 'Bandakeri', 'Bandakeri', 'Bandakeri', 'Budingod', 'Budingod', 'Budingod', 'Budingod', 'Budingod', 'Budingod', 'Budingod', 'Budingod', 'Budingod', 'Budingod', 'Budingod', 'Budingod', 'Budingod', 'Budingod', 'Budingod', 'Budingod', 'Budingod', 'Budingod', 'Budingod', 'Budingod', 'Budingod', 'Budingod', 'Budingod', 'Budingod', 'Budingod', 'Budingod', 'Budingod', 'Budingod', 'Budingod', 'Budingod', 'Budingod', 'Budingod', 'Budingod', 'Budingod', 'Budingod', 'Budingod', 'Budingod', 'Budingod', 'Budingod', 'Budingod', 'Budingod', 'Budingod', 'Budingod', 'Budingod', 'Budingod', 'Budingod', 'Budingod', 'Budingod', 'Budingod', 'Budingod', 'Budingod', 'Budingod', 'Budingod', 'Budingod', 'Budingod', 'Budingod', 'Budingod', 'Budingod', 'Budingod', 'Budingod']\n"
     ]
    }
   ],
   "source": [
    "village = ['Aladakatti', 'Bandakeri', 'Budingod']\n",
    "import random\n",
    "\n",
    "village_gen = []\n",
    "for i in range(int(180/3)):\n",
    "    village_gen.append(village[0])\n",
    "for i in range(int(180/3)):\n",
    "    village_gen.append(village[1])\n",
    "for i in range(int(180/3)):\n",
    "    village_gen.append(village[2])\n",
    "\n",
    "print(village_gen)"
   ]
  },
  {
   "cell_type": "code",
   "execution_count": 33,
   "metadata": {},
   "outputs": [],
   "source": [
    "v = np.asarray(village_gen)\n",
    "df1['area'] = v"
   ]
  },
  {
   "cell_type": "code",
   "execution_count": 34,
   "metadata": {},
   "outputs": [
    {
     "output_type": "execute_result",
     "data": {
      "text/plain": [
       "                name            work        area\n",
       "3614     Audiosocket         Farming  Aladakatti\n",
       "1436     AgentBridge        Security  Aladakatti\n",
       "121    24x7 Learning        Security  Aladakatti\n",
       "2635       App Annie  Factory worker  Aladakatti\n",
       "1390  AFrame Digital  Factory worker  Aladakatti"
      ],
      "text/html": "<div>\n<style scoped>\n    .dataframe tbody tr th:only-of-type {\n        vertical-align: middle;\n    }\n\n    .dataframe tbody tr th {\n        vertical-align: top;\n    }\n\n    .dataframe thead th {\n        text-align: right;\n    }\n</style>\n<table border=\"1\" class=\"dataframe\">\n  <thead>\n    <tr style=\"text-align: right;\">\n      <th></th>\n      <th>name</th>\n      <th>work</th>\n      <th>area</th>\n    </tr>\n  </thead>\n  <tbody>\n    <tr>\n      <th>3614</th>\n      <td>Audiosocket</td>\n      <td>Farming</td>\n      <td>Aladakatti</td>\n    </tr>\n    <tr>\n      <th>1436</th>\n      <td>AgentBridge</td>\n      <td>Security</td>\n      <td>Aladakatti</td>\n    </tr>\n    <tr>\n      <th>121</th>\n      <td>24x7 Learning</td>\n      <td>Security</td>\n      <td>Aladakatti</td>\n    </tr>\n    <tr>\n      <th>2635</th>\n      <td>App Annie</td>\n      <td>Factory worker</td>\n      <td>Aladakatti</td>\n    </tr>\n    <tr>\n      <th>1390</th>\n      <td>AFrame Digital</td>\n      <td>Factory worker</td>\n      <td>Aladakatti</td>\n    </tr>\n  </tbody>\n</table>\n</div>"
     },
     "metadata": {},
     "execution_count": 34
    }
   ],
   "source": [
    "df1.head()"
   ]
  },
  {
   "cell_type": "code",
   "execution_count": 35,
   "metadata": {},
   "outputs": [
    {
     "output_type": "execute_result",
     "data": {
      "text/plain": [
       "                         name            work        area\n",
       "2101             Amba Defence  Factory worker    Budingod\n",
       "5661            Boardwalktech  Factory worker    Budingod\n",
       "1246                Advestigo    Construction  Aladakatti\n",
       "2926  AquaBounty Technologies    Construction    Budingod\n",
       "4444     BEAT BioTherapeutics         Farming    Budingod"
      ],
      "text/html": "<div>\n<style scoped>\n    .dataframe tbody tr th:only-of-type {\n        vertical-align: middle;\n    }\n\n    .dataframe tbody tr th {\n        vertical-align: top;\n    }\n\n    .dataframe thead th {\n        text-align: right;\n    }\n</style>\n<table border=\"1\" class=\"dataframe\">\n  <thead>\n    <tr style=\"text-align: right;\">\n      <th></th>\n      <th>name</th>\n      <th>work</th>\n      <th>area</th>\n    </tr>\n  </thead>\n  <tbody>\n    <tr>\n      <th>2101</th>\n      <td>Amba Defence</td>\n      <td>Factory worker</td>\n      <td>Budingod</td>\n    </tr>\n    <tr>\n      <th>5661</th>\n      <td>Boardwalktech</td>\n      <td>Factory worker</td>\n      <td>Budingod</td>\n    </tr>\n    <tr>\n      <th>1246</th>\n      <td>Advestigo</td>\n      <td>Construction</td>\n      <td>Aladakatti</td>\n    </tr>\n    <tr>\n      <th>2926</th>\n      <td>AquaBounty Technologies</td>\n      <td>Construction</td>\n      <td>Budingod</td>\n    </tr>\n    <tr>\n      <th>4444</th>\n      <td>BEAT BioTherapeutics</td>\n      <td>Farming</td>\n      <td>Budingod</td>\n    </tr>\n  </tbody>\n</table>\n</div>"
     },
     "metadata": {},
     "execution_count": 35
    }
   ],
   "source": [
    "df1 = sklearn.utils.shuffle(df1)\n",
    "df1.head()"
   ]
  },
  {
   "cell_type": "code",
   "execution_count": 36,
   "metadata": {},
   "outputs": [
    {
     "output_type": "execute_result",
     "data": {
      "text/plain": [
       "(180, 3)"
      ]
     },
     "metadata": {},
     "execution_count": 36
    }
   ],
   "source": [
    "df1.shape"
   ]
  },
  {
   "cell_type": "code",
   "execution_count": 40,
   "metadata": {},
   "outputs": [],
   "source": [
    "pay_list = [35, 40, 45, 50, 55, 60]\n",
    "\n",
    "hourly_pay = []\n",
    "\n",
    "for i in range(180):\n",
    "    hourly_pay.append(random.choice(pay_list))"
   ]
  },
  {
   "cell_type": "code",
   "execution_count": 42,
   "metadata": {},
   "outputs": [
    {
     "output_type": "stream",
     "name": "stdout",
     "text": [
      "[55, 60, 60, 50, 35, 60, 45, 35, 40, 45, 45, 50, 40, 55, 45, 40, 60, 55, 45, 50, 55, 55, 55, 55, 35, 55, 35, 40, 35, 40, 40, 60, 35, 45, 35, 40, 55, 60, 45, 50, 40, 50, 40, 50, 40, 55, 60, 50, 55, 45, 60, 45, 55, 50, 40, 60, 45, 45, 40, 55, 60, 45, 50, 50, 45, 60, 40, 60, 45, 55, 55, 55, 35, 40, 60, 55, 40, 60, 55, 40, 40, 35, 35, 60, 60, 50, 35, 50, 50, 45, 55, 55, 35, 50, 60, 60, 55, 40, 45, 45, 55, 55, 60, 55, 45, 35, 55, 50, 55, 35, 35, 35, 50, 45, 55, 55, 40, 35, 50, 55, 50, 35, 60, 50, 55, 45, 60, 35, 40, 50, 35, 50, 45, 35, 55, 50, 50, 55, 40, 55, 40, 45, 55, 40, 50, 45, 55, 55, 40, 45, 40, 55, 45, 45, 40, 60, 45, 35, 45, 50, 45, 50, 45, 45, 40, 50, 50, 55, 45, 60, 50, 50, 60, 55, 35, 35, 55, 50, 45, 45]\n"
     ]
    }
   ],
   "source": [
    "print(hourly_pay)"
   ]
  },
  {
   "cell_type": "code",
   "execution_count": 43,
   "metadata": {},
   "outputs": [
    {
     "output_type": "stream",
     "name": "stdout",
     "text": [
      "[385, 420, 420, 350, 245, 420, 315, 245, 280, 315, 315, 350, 280, 385, 315, 280, 420, 385, 315, 350, 385, 385, 385, 385, 245, 385, 245, 280, 245, 280, 280, 420, 245, 315, 245, 280, 385, 420, 315, 350, 280, 350, 280, 350, 280, 385, 420, 350, 385, 315, 420, 315, 385, 350, 280, 420, 315, 315, 280, 385, 420, 315, 350, 350, 315, 420, 280, 420, 315, 385, 385, 385, 245, 280, 420, 385, 280, 420, 385, 280, 280, 245, 245, 420, 420, 350, 245, 350, 350, 315, 385, 385, 245, 350, 420, 420, 385, 280, 315, 315, 385, 385, 420, 385, 315, 245, 385, 350, 385, 245, 245, 245, 350, 315, 385, 385, 280, 245, 350, 385, 350, 245, 420, 350, 385, 315, 420, 245, 280, 350, 245, 350, 315, 245, 385, 350, 350, 385, 280, 385, 280, 315, 385, 280, 350, 315, 385, 385, 280, 315, 280, 385, 315, 315, 280, 420, 315, 245, 315, 350, 315, 350, 315, 315, 280, 350, 350, 385, 315, 420, 350, 350, 420, 385, 245, 245, 385, 350, 315, 315]\n"
     ]
    }
   ],
   "source": [
    "daily_pay = []\n",
    "for i in hourly_pay:\n",
    "    daily_pay.append(i*7)\n",
    "print(daily_pay)"
   ]
  },
  {
   "cell_type": "code",
   "execution_count": 44,
   "metadata": {},
   "outputs": [
    {
     "output_type": "stream",
     "name": "stdout",
     "text": [
      "[9625, 10500, 10500, 8750, 6125, 10500, 7875, 6125, 7000, 7875, 7875, 8750, 7000, 9625, 7875, 7000, 10500, 9625, 7875, 8750, 9625, 9625, 9625, 9625, 6125, 9625, 6125, 7000, 6125, 7000, 7000, 10500, 6125, 7875, 6125, 7000, 9625, 10500, 7875, 8750, 7000, 8750, 7000, 8750, 7000, 9625, 10500, 8750, 9625, 7875, 10500, 7875, 9625, 8750, 7000, 10500, 7875, 7875, 7000, 9625, 10500, 7875, 8750, 8750, 7875, 10500, 7000, 10500, 7875, 9625, 9625, 9625, 6125, 7000, 10500, 9625, 7000, 10500, 9625, 7000, 7000, 6125, 6125, 10500, 10500, 8750, 6125, 8750, 8750, 7875, 9625, 9625, 6125, 8750, 10500, 10500, 9625, 7000, 7875, 7875, 9625, 9625, 10500, 9625, 7875, 6125, 9625, 8750, 9625, 6125, 6125, 6125, 8750, 7875, 9625, 9625, 7000, 6125, 8750, 9625, 8750, 6125, 10500, 8750, 9625, 7875, 10500, 6125, 7000, 8750, 6125, 8750, 7875, 6125, 9625, 8750, 8750, 9625, 7000, 9625, 7000, 7875, 9625, 7000, 8750, 7875, 9625, 9625, 7000, 7875, 7000, 9625, 7875, 7875, 7000, 10500, 7875, 6125, 7875, 8750, 7875, 8750, 7875, 7875, 7000, 8750, 8750, 9625, 7875, 10500, 8750, 8750, 10500, 9625, 6125, 6125, 9625, 8750, 7875, 7875]\n"
     ]
    }
   ],
   "source": [
    "monthly_pay = []\n",
    "for i in daily_pay:\n",
    "    monthly_pay.append(i*25)\n",
    "print(monthly_pay)"
   ]
  },
  {
   "cell_type": "code",
   "execution_count": 45,
   "metadata": {},
   "outputs": [
    {
     "output_type": "execute_result",
     "data": {
      "text/plain": [
       "                         name            work        area  hourly pay  \\\n",
       "2101             Amba Defence  Factory worker    Budingod          55   \n",
       "5661            Boardwalktech  Factory worker    Budingod          60   \n",
       "1246                Advestigo    Construction  Aladakatti          60   \n",
       "2926  AquaBounty Technologies    Construction    Budingod          50   \n",
       "4444     BEAT BioTherapeutics         Farming    Budingod          35   \n",
       "\n",
       "      daily pay  monthly pay  \n",
       "2101        385         9625  \n",
       "5661        420        10500  \n",
       "1246        420        10500  \n",
       "2926        350         8750  \n",
       "4444        245         6125  "
      ],
      "text/html": "<div>\n<style scoped>\n    .dataframe tbody tr th:only-of-type {\n        vertical-align: middle;\n    }\n\n    .dataframe tbody tr th {\n        vertical-align: top;\n    }\n\n    .dataframe thead th {\n        text-align: right;\n    }\n</style>\n<table border=\"1\" class=\"dataframe\">\n  <thead>\n    <tr style=\"text-align: right;\">\n      <th></th>\n      <th>name</th>\n      <th>work</th>\n      <th>area</th>\n      <th>hourly pay</th>\n      <th>daily pay</th>\n      <th>monthly pay</th>\n    </tr>\n  </thead>\n  <tbody>\n    <tr>\n      <th>2101</th>\n      <td>Amba Defence</td>\n      <td>Factory worker</td>\n      <td>Budingod</td>\n      <td>55</td>\n      <td>385</td>\n      <td>9625</td>\n    </tr>\n    <tr>\n      <th>5661</th>\n      <td>Boardwalktech</td>\n      <td>Factory worker</td>\n      <td>Budingod</td>\n      <td>60</td>\n      <td>420</td>\n      <td>10500</td>\n    </tr>\n    <tr>\n      <th>1246</th>\n      <td>Advestigo</td>\n      <td>Construction</td>\n      <td>Aladakatti</td>\n      <td>60</td>\n      <td>420</td>\n      <td>10500</td>\n    </tr>\n    <tr>\n      <th>2926</th>\n      <td>AquaBounty Technologies</td>\n      <td>Construction</td>\n      <td>Budingod</td>\n      <td>50</td>\n      <td>350</td>\n      <td>8750</td>\n    </tr>\n    <tr>\n      <th>4444</th>\n      <td>BEAT BioTherapeutics</td>\n      <td>Farming</td>\n      <td>Budingod</td>\n      <td>35</td>\n      <td>245</td>\n      <td>6125</td>\n    </tr>\n  </tbody>\n</table>\n</div>"
     },
     "metadata": {},
     "execution_count": 45
    }
   ],
   "source": [
    "hp = np.asarray(hourly_pay)\n",
    "df1['hourly pay'] = hp\n",
    "\n",
    "dp = np.asarray(daily_pay)\n",
    "df1['daily pay'] = dp\n",
    "\n",
    "mp = np.asarray(monthly_pay)\n",
    "df1['monthly pay'] = mp\n",
    "\n",
    "df1.head()"
   ]
  },
  {
   "cell_type": "code",
   "execution_count": 46,
   "metadata": {},
   "outputs": [
    {
     "output_type": "execute_result",
     "data": {
      "text/plain": [
       "                 name          work        area  hourly pay  daily pay  \\\n",
       "1525            Ahead  Construction  Aladakatti          40        280   \n",
       "5179  Bird Cycleworks      Security  Aladakatti          60        420   \n",
       "1618          AIRTAME        Coolie    Budingod          40        280   \n",
       "3996           Axtria        Coolie    Budingod          55        385   \n",
       "503            Abazab       Farming  Aladakatti          50        350   \n",
       "\n",
       "      monthly pay  \n",
       "1525         7000  \n",
       "5179        10500  \n",
       "1618         7000  \n",
       "3996         9625  \n",
       "503          8750  "
      ],
      "text/html": "<div>\n<style scoped>\n    .dataframe tbody tr th:only-of-type {\n        vertical-align: middle;\n    }\n\n    .dataframe tbody tr th {\n        vertical-align: top;\n    }\n\n    .dataframe thead th {\n        text-align: right;\n    }\n</style>\n<table border=\"1\" class=\"dataframe\">\n  <thead>\n    <tr style=\"text-align: right;\">\n      <th></th>\n      <th>name</th>\n      <th>work</th>\n      <th>area</th>\n      <th>hourly pay</th>\n      <th>daily pay</th>\n      <th>monthly pay</th>\n    </tr>\n  </thead>\n  <tbody>\n    <tr>\n      <th>1525</th>\n      <td>Ahead</td>\n      <td>Construction</td>\n      <td>Aladakatti</td>\n      <td>40</td>\n      <td>280</td>\n      <td>7000</td>\n    </tr>\n    <tr>\n      <th>5179</th>\n      <td>Bird Cycleworks</td>\n      <td>Security</td>\n      <td>Aladakatti</td>\n      <td>60</td>\n      <td>420</td>\n      <td>10500</td>\n    </tr>\n    <tr>\n      <th>1618</th>\n      <td>AIRTAME</td>\n      <td>Coolie</td>\n      <td>Budingod</td>\n      <td>40</td>\n      <td>280</td>\n      <td>7000</td>\n    </tr>\n    <tr>\n      <th>3996</th>\n      <td>Axtria</td>\n      <td>Coolie</td>\n      <td>Budingod</td>\n      <td>55</td>\n      <td>385</td>\n      <td>9625</td>\n    </tr>\n    <tr>\n      <th>503</th>\n      <td>Abazab</td>\n      <td>Farming</td>\n      <td>Aladakatti</td>\n      <td>50</td>\n      <td>350</td>\n      <td>8750</td>\n    </tr>\n  </tbody>\n</table>\n</div>"
     },
     "metadata": {},
     "execution_count": 46
    }
   ],
   "source": [
    "df1 = sklearn.utils.shuffle(df1)\n",
    "df1.head()"
   ]
  },
  {
   "cell_type": "code",
   "execution_count": 47,
   "metadata": {},
   "outputs": [],
   "source": [
    "df1.to_csv(r'openings.csv', index = False)"
   ]
  },
  {
   "cell_type": "code",
   "execution_count": null,
   "metadata": {},
   "outputs": [],
   "source": []
  }
 ]
}